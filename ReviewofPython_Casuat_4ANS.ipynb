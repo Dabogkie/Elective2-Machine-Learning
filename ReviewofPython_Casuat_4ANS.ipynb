{
  "nbformat": 4,
  "nbformat_minor": 0,
  "metadata": {
    "colab": {
      "provenance": [],
      "toc_visible": true,
      "include_colab_link": true
    },
    "kernelspec": {
      "name": "python3",
      "display_name": "Python 3"
    },
    "language_info": {
      "name": "python"
    }
  },
  "cells": [
    {
      "cell_type": "markdown",
      "metadata": {
        "id": "view-in-github",
        "colab_type": "text"
      },
      "source": [
        "<a href=\"https://colab.research.google.com/github/Dabogkie/Elective2-Machine-Learning/blob/main/ReviewofPython_Casuat_4ANS.ipynb\" target=\"_parent\"><img src=\"https://colab.research.google.com/assets/colab-badge.svg\" alt=\"Open In Colab\"/></a>"
      ]
    },
    {
      "cell_type": "markdown",
      "source": [
        "© Kenneth Rei Lopez (2022)"
      ],
      "metadata": {
        "id": "WV-tDIDNX90m"
      }
    },
    {
      "cell_type": "markdown",
      "source": [
        "This is the notebook for Introduction to Machine Learning "
      ],
      "metadata": {
        "id": "nuLAY70LYKyo"
      }
    },
    {
      "cell_type": "markdown",
      "source": [
        "#Review of Python Programming"
      ],
      "metadata": {
        "id": "JzwoJaO4YbFa"
      }
    },
    {
      "cell_type": "markdown",
      "source": [
        "## Proper Naming Convention "
      ],
      "metadata": {
        "id": "2OSj5aeRYlqW"
      }
    },
    {
      "cell_type": "markdown",
      "source": [
        "You might think discussing this topic must be pointless or too simplistic but it is actually one of the most frequent mistakes that data scientists, professors, or researchers usually do. Naming variables and functions properly will bring clarity to understanding the code."
      ],
      "metadata": {
        "id": "ROR1QIBoaLlp"
      }
    },
    {
      "cell_type": "markdown",
      "source": [
        "##Practice Activity\n",
        "1. Create variable declarations for \n",
        "   - First Names\n",
        "   -Grades for Prelim\n",
        "   -Grades for Midterm\n",
        "   -Grades for Finals"
      ],
      "metadata": {
        "id": "alN4AtH8bb4b"
      }
    },
    {
      "cell_type": "markdown",
      "source": [
        "##Code Reusability"
      ],
      "metadata": {
        "id": "AR-JIDeRcKIV"
      }
    },
    {
      "cell_type": "code",
      "source": [
        "import pandas as pd"
      ],
      "metadata": {
        "id": "k8FTRF0-aDA3"
      },
      "execution_count": 9,
      "outputs": []
    },
    {
      "cell_type": "code",
      "source": [
        "last_name = [\"Lopez\", \"Berinio\", \"Gutierrez\", \"Tagama\", \"Casaberde\"]\n",
        "First_name = [\"Kenneth Rei\", \"Zandy\", \"Klien\", \"Cigrid\", \"Ruby\"]"
      ],
      "metadata": {
        "id": "-udnJx-nQPd-"
      },
      "execution_count": 1,
      "outputs": []
    },
    {
      "cell_type": "code",
      "source": [
        "last_name\n"
      ],
      "metadata": {
        "colab": {
          "base_uri": "https://localhost:8080/"
        },
        "id": "Zxk6q4xkQl2s",
        "outputId": "852f3624-61f8-4a33-d44d-92238837a7ab"
      },
      "execution_count": 2,
      "outputs": [
        {
          "output_type": "execute_result",
          "data": {
            "text/plain": [
              "['Lopez', 'Berinio', 'Gutierrez', 'Tagama', 'Casaberde']"
            ]
          },
          "metadata": {},
          "execution_count": 2
        }
      ]
    },
    {
      "cell_type": "code",
      "source": [
        "First_name"
      ],
      "metadata": {
        "colab": {
          "base_uri": "https://localhost:8080/"
        },
        "id": "_vZJr7fQQ_OU",
        "outputId": "a28021c1-e8f3-4f5e-bd93-e8cc37ccd6b4"
      },
      "execution_count": 3,
      "outputs": [
        {
          "output_type": "execute_result",
          "data": {
            "text/plain": [
              "['Kenneth Rei', 'Zandy', 'Klien', 'Cigrid', 'Ruby']"
            ]
          },
          "metadata": {},
          "execution_count": 3
        }
      ]
    },
    {
      "cell_type": "code",
      "source": [
        "grades_Prelim = [100, 100, 100, 100, 100]\n",
        "grades_Midterm = [90, 90, 90, 90, 90]\n",
        "grades_finals = [100, 100, 100, 100, 100]"
      ],
      "metadata": {
        "id": "87hRTHsUSQQc"
      },
      "execution_count": 4,
      "outputs": []
    },
    {
      "cell_type": "code",
      "source": [
        "grades_Prelim"
      ],
      "metadata": {
        "colab": {
          "base_uri": "https://localhost:8080/"
        },
        "id": "E6JQO6ZCSpSG",
        "outputId": "e020c8cc-3bfd-4120-94b1-0f625085c5c0"
      },
      "execution_count": 5,
      "outputs": [
        {
          "output_type": "execute_result",
          "data": {
            "text/plain": [
              "[100, 100, 100, 100, 100]"
            ]
          },
          "metadata": {},
          "execution_count": 5
        }
      ]
    },
    {
      "cell_type": "code",
      "source": [
        "grades_Midterm"
      ],
      "metadata": {
        "colab": {
          "base_uri": "https://localhost:8080/"
        },
        "id": "tcmAhPnZSspF",
        "outputId": "4bca2c39-33e4-476f-f6b4-55b7ca53b8a4"
      },
      "execution_count": 6,
      "outputs": [
        {
          "output_type": "execute_result",
          "data": {
            "text/plain": [
              "[90, 90, 90, 90, 90]"
            ]
          },
          "metadata": {},
          "execution_count": 6
        }
      ]
    },
    {
      "cell_type": "code",
      "source": [
        "grades_finals"
      ],
      "metadata": {
        "colab": {
          "base_uri": "https://localhost:8080/"
        },
        "id": "uxBqhUDtSzZ-",
        "outputId": "4c0232b2-24f8-4b7d-ee74-d72a2c203054"
      },
      "execution_count": 7,
      "outputs": [
        {
          "output_type": "execute_result",
          "data": {
            "text/plain": [
              "[100, 100, 100, 100, 100]"
            ]
          },
          "metadata": {},
          "execution_count": 7
        }
      ]
    },
    {
      "cell_type": "code",
      "source": [
        "grades_Prelim, grades_Midterm, grades_finals"
      ],
      "metadata": {
        "colab": {
          "base_uri": "https://localhost:8080/"
        },
        "id": "60KzKq88Ta4q",
        "outputId": "ded48e34-c8b6-4196-9937-f863750f4e99"
      },
      "execution_count": 8,
      "outputs": [
        {
          "output_type": "execute_result",
          "data": {
            "text/plain": [
              "([100, 100, 100, 100, 100], [90, 90, 90, 90, 90], [100, 100, 100, 100, 100])"
            ]
          },
          "metadata": {},
          "execution_count": 8
        }
      ]
    },
    {
      "cell_type": "markdown",
      "source": [
        "Just like in any writing we want to reduce redundancies in our content. Just like following the rules of brevity we also consider that in creating cleaner code. One way of applying brevity to code is code reusability wherein you refrain from creating code that you repeat in encoding. This is where the use of functions will be most used. Consider the following code below."
      ],
      "metadata": {
        "id": "bkh-O-xicOgI"
      }
    },
    {
      "cell_type": "code",
      "source": [
        "'''\n",
        "    CASE 2: Computing grades.\n",
        "\n",
        "    For this cell we are going to look into creating functions for the class.\n",
        "    This includes computing for their grades and some classroom management\n",
        "    routines.\n",
        "'''\n",
        "### Consider this procedural programming script\n",
        "gs_1 = [89.4, 78.2, 88.0, 28.5, 67.3]\n",
        "# Get average grades of the class\n",
        "class_g = 0\n",
        "for g in gs_1:\n",
        "  class_g += g\n",
        "cmean = class_g/len(gs_1)\n",
        "print (cmean)"
      ],
      "metadata": {
        "colab": {
          "base_uri": "https://localhost:8080/"
        },
        "id": "NLnOlMKlb2b1",
        "outputId": "92969a8c-8329-44eb-825c-e64f49c13d74"
      },
      "execution_count": null,
      "outputs": [
        {
          "output_type": "stream",
          "name": "stdout",
          "text": [
            "70.28\n"
          ]
        }
      ]
    },
    {
      "cell_type": "code",
      "source": [
        "data = {\n",
        "    'Name' : [\"Kenneth\", \"Klien\", \"Cigrid\", \"Ruby\", \"Zandy\" ],\n",
        "    'Prelim': [98,90,96,96,95],\n",
        "    'Midterm': [95,90,91,86,75],\n",
        "    'Final':[98,90,96,96,100]\n",
        "  \n",
        "}\n",
        "import statistics \n",
        "def get_grades():\n",
        "  class_grade_sheet = pd.DataFrame({\n",
        "      'Name' : [\"Kenneth\",\"Klien\",\"Cigrid\",\"Ruby\",\"Zandy\"],\n",
        "      'Prelim': [98,90,96,96,95],\n",
        "      'Midterm': [95,90,91,86,75],\n",
        "      'Final':[98,90,96,96,100]})\n",
        "  \n",
        "  return class_grade_sheet\n",
        "\n",
        "print(get_grades());\n",
        "\n",
        "def get_class_stats():\n",
        "  class_grade_sheet = get_grades()\n",
        "  print(\"\\n\")\n",
        "  print(\"Highest in Prelim = \" , class_grade_sheet['Prelim'].max())\n",
        "  print(\"Lowest in Prelim = \" , class_grade_sheet['Prelim'].min())\n",
        "\n",
        "  print(\"\\n\")\n",
        "  print(\"Highest in Prelim = \" , class_grade_sheet['Midterm'].max())\n",
        "  print(\"Lowest in Prelim = \" , class_grade_sheet['Midterm'].min())\n",
        "\n",
        "  print(\"\\n\")\n",
        "  print(\"Highest in Prelim = \" , class_grade_sheet['Final'].max())\n",
        "  print(\"Lowest in Prelim = \" , class_grade_sheet['Final'].min())\n",
        "\n",
        "  print(\"\\nMean:\")\n",
        "  print(class_grade_sheet.mean())\n",
        "\n",
        "  print(\"\\nMedian:\")\n",
        "  print(class_grade_sheet.median())\n",
        "\n",
        "  print(\"\\nMode:\")\n",
        "  print(class_grade_sheet.mode())\n",
        "  \n",
        "get_class_stats()\n"
      ],
      "metadata": {
        "id": "xIfmg6nGc-4a",
        "colab": {
          "base_uri": "https://localhost:8080/"
        },
        "outputId": "0fbf9631-a633-4ab5-befa-46583dba25c2"
      },
      "execution_count": 11,
      "outputs": [
        {
          "output_type": "stream",
          "name": "stdout",
          "text": [
            "      Name  Prelim  Midterm  Final\n",
            "0  Kenneth      98       95     98\n",
            "1    Klien      90       90     90\n",
            "2   Cigrid      96       91     96\n",
            "3     Ruby      96       86     96\n",
            "4    Zandy      95       75    100\n",
            "\n",
            "\n",
            "Highest in Prelim =  98\n",
            "Lowest in Prelim =  90\n",
            "\n",
            "\n",
            "Highest in Prelim =  95\n",
            "Lowest in Prelim =  75\n",
            "\n",
            "\n",
            "Highest in Prelim =  100\n",
            "Lowest in Prelim =  90\n",
            "\n",
            "Mean:\n",
            "Prelim     95.0\n",
            "Midterm    87.4\n",
            "Final      96.0\n",
            "dtype: float64\n",
            "\n",
            "Median:\n",
            "Prelim     96.0\n",
            "Midterm    90.0\n",
            "Final      96.0\n",
            "dtype: float64\n",
            "\n",
            "Mode:\n",
            "      Name  Prelim  Midterm  Final\n",
            "0   Cigrid    96.0       75   96.0\n",
            "1  Kenneth     NaN       86    NaN\n",
            "2    Klien     NaN       90    NaN\n",
            "3     Ruby     NaN       91    NaN\n",
            "4    Zandy     NaN       95    NaN\n"
          ]
        },
        {
          "output_type": "stream",
          "name": "stderr",
          "text": [
            "/usr/local/lib/python3.7/dist-packages/ipykernel_launcher.py:35: FutureWarning: Dropping of nuisance columns in DataFrame reductions (with 'numeric_only=None') is deprecated; in a future version this will raise TypeError.  Select only valid columns before calling the reduction.\n",
            "/usr/local/lib/python3.7/dist-packages/ipykernel_launcher.py:38: FutureWarning: Dropping of nuisance columns in DataFrame reductions (with 'numeric_only=None') is deprecated; in a future version this will raise TypeError.  Select only valid columns before calling the reduction.\n"
          ]
        }
      ]
    },
    {
      "cell_type": "code",
      "source": [
        "### That works but if you keep doing that for production, it would just look\n",
        "### like spaghetti code. Instead, if you are repeating code, consider creating\n",
        "### a function.\n",
        "\n",
        "def average(grades):\n",
        "  grades_class = 0\n",
        "  for g in grades:\n",
        "    grades_class += g\n",
        "  avg = grades_class/len(grades)\n",
        "  return avg"
      ],
      "metadata": {
        "id": "I8enZymbdNGf"
      },
      "execution_count": null,
      "outputs": []
    },
    {
      "cell_type": "code",
      "source": [
        "## The code above would be reusable but it is not easy to read. We need to \n",
        "### enforce the code refactoring for renaming not just the variables but also\n",
        "### the functions we are creating. So if we would refactor the 'average' \n",
        "### Function earlier it could be:\n",
        "\n",
        "def get_class_ave(arr):\n",
        "  class_grades = 0\n",
        "  for grade in arr:\n",
        "    class_grades += grade\n",
        "  class_avg = class_grades/len(arr)\n",
        "  return class_avg"
      ],
      "metadata": {
        "id": "NHEnXwXBdkt-"
      },
      "execution_count": null,
      "outputs": []
    },
    {
      "cell_type": "markdown",
      "source": [
        "##Getting Class Statistics"
      ],
      "metadata": {
        "id": "BEwCQHwCdqkZ"
      }
    },
    {
      "cell_type": "markdown",
      "source": [
        "Create a function named get_grades() for computing the semestral grade of each student:\n",
        "\n",
        "inputs: DataFrame of a class grade sheet.\n",
        "\n",
        "outpus: DataFrame showing:\n",
        "    The prelim, midterms, and finals grades of each student\n",
        "    The semestral grade of each student\n",
        "\n",
        "Create a function named get_class_stats().\n",
        "\n",
        "inputs: DataFrame from get_grades().\n",
        "\n",
        "outpus: DataFrame showing:\n",
        "    The lowest and highest prelim, midterm, finals, and semestral grades\n",
        "    the mean, median, mode, and standard deviation of the grades"
      ],
      "metadata": {
        "id": "LJ1UECSWd43_"
      }
    },
    {
      "cell_type": "markdown",
      "source": [
        "##Code Optimization\n",
        "When we consider your code to be part of production or for customer delivery we must consider that they are not laggy nor too space-consuming for devices. This is a common practice in data science and machine learning wherein training algorithms take up resources from computers or considering the space a model consumes at your workspace or your customer’s device."
      ],
      "metadata": {
        "id": "yPp4xl-beMIB"
      }
    },
    {
      "cell_type": "markdown",
      "source": [
        "Space Complexity\n",
        "\n",
        "This would specifically refer to your choice of data structures. This is a job for reviewing data structures and algorithms for space complexity. Although in Python for AI we are looking into more data structures like matrices and data frames."
      ],
      "metadata": {
        "id": "CctsMtzIeax_"
      }
    },
    {
      "cell_type": "code",
      "source": [
        "## The following code will optimize how to efficiently store data into memory\n",
        "enrollees_2016_2020 = ['15022', '18302', '8845', '9203', '10035']\n",
        "enrollees_2016_2020 = [15022, 18302, 8845, 9203, 10035]"
      ],
      "metadata": {
        "id": "44ygYd6UeFOK"
      },
      "execution_count": null,
      "outputs": []
    },
    {
      "cell_type": "code",
      "source": [
        "img1 =[[125.453, 254],[64.21,84.53]]\n",
        "img1\n"
      ],
      "metadata": {
        "colab": {
          "base_uri": "https://localhost:8080/"
        },
        "id": "B9I_1oWCewpr",
        "outputId": "a752ef93-b920-481a-b89d-ead3a05cf3fd"
      },
      "execution_count": null,
      "outputs": [
        {
          "output_type": "execute_result",
          "data": {
            "text/plain": [
              "[[125.453, 254], [64.21, 84.53]]"
            ]
          },
          "metadata": {},
          "execution_count": 17
        }
      ]
    },
    {
      "cell_type": "code",
      "source": [
        "import numpy as np\n",
        "img1_vector= np.array(img1)\n",
        "img1_vector"
      ],
      "metadata": {
        "colab": {
          "base_uri": "https://localhost:8080/"
        },
        "id": "BZLeQRJ8e8ow",
        "outputId": "bfd1d185-0ec4-47db-a3e2-992f90dfac3f"
      },
      "execution_count": null,
      "outputs": [
        {
          "output_type": "execute_result",
          "data": {
            "text/plain": [
              "array([[125.453, 254.   ],\n",
              "       [ 64.21 ,  84.53 ]])"
            ]
          },
          "metadata": {},
          "execution_count": 18
        }
      ]
    },
    {
      "cell_type": "markdown",
      "source": [
        "##Practice Activity\n",
        "code wil try to optimize getting unique elements from the given\n",
        "list of class codes\n",
        "\n",
        "curr_2018_courses = ['220', '270', '318', '450', '101', '768', '223L', '223',\n",
        "                     '727', '418', '673', '672', '450', '124', '771', '654',\n",
        "                     '231', '768', '768', '224', '654', '673']\n",
        "\n",
        "### print an array that shows only the unique elements\n",
        "\n"
      ],
      "metadata": {
        "id": "BsPgIjVvfuAM"
      }
    },
    {
      "cell_type": "code",
      "source": [
        "curr_2018_courses = ['220', '270', '318', '450', '101', '768', '223', '223', '727', '418', '673', '672', '450', '124', '771', '654', '231', '768', '768', '224', '654', '673']\n",
        "\n",
        "def get_unique_numbers(curr_2018_courses):\n",
        "\n",
        "    list_of_unique_numbers = []\n",
        "\n",
        "    unique_numbers = set(curr_2018_courses)\n",
        "\n",
        "    for number in unique_numbers:\n",
        "        list_of_unique_numbers.append(number)\n",
        "\n",
        "    return list_of_unique_numbers\n",
        "\n",
        "\n",
        "print(get_unique_numbers(curr_2018_courses))"
      ],
      "metadata": {
        "id": "RdpdlgzzfRbX",
        "colab": {
          "base_uri": "https://localhost:8080/"
        },
        "outputId": "7d48f280-8e8b-41ac-c85e-5fa73b7069e1"
      },
      "execution_count": 5,
      "outputs": [
        {
          "output_type": "stream",
          "name": "stdout",
          "text": [
            "['418', '270', '727', '450', '673', '318', '224', '101', '768', '223', '672', '220', '771', '654', '231', '124']\n"
          ]
        }
      ]
    }
  ]
}